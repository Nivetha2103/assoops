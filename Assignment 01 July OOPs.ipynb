{
 "cells": [
  {
   "cell_type": "code",
   "execution_count": null,
   "id": "5b9e2c3f-0483-4030-8d92-95efd3c82ab6",
   "metadata": {},
   "outputs": [],
   "source": [
    "#Question number 7 assignment OOPS\n",
    "class book:\n",
    "    def __init__(self,title,author,isbn,publication_year,available_copies):\n",
    "        self.title = title\n",
    "        self.author = author\n",
    "        self.isbn = isbn\n",
    "        self.publication_year = publication_year\n",
    "        self.available_copies = available_copies\n",
    "    def check_out(self):\n",
    "        self.available_copies = self.available_copies-1\n",
    "    def return_book(self):\n",
    "        self.available_copies = self.available_copies+1\n",
    "    def display_book_info(self):\n",
    "        print(f\"The title of book is {self.title}, author is {self.author},the isbn of book is {self.isbn},the publication year is {self.publication_year} and available copies {self.available_copies})\n",
    "        "
   ]
  },
  {
   "cell_type": "code",
   "execution_count": null,
   "id": "a98ab94f-7dbd-4de3-a995-a7b2e6b0c34f",
   "metadata": {},
   "outputs": [],
   "source": [
    "#Question number 8 assignment OOPS\n",
    "class ticket:\n",
    "    def __init__(self,ticket_id,event_name,venue,seat_number,price,is_reserved):\n",
    "        self.ticket_id = ticket_id\n",
    "        self.event_name = event_name\n",
    "        self.event_date = event date\n",
    "        self.venue = venue\n",
    "        self.seat_number = seat number\n",
    "        self.price = price\n",
    "        self.is_reserved = is_reserved\n",
    "    def reserve_ticket(self):\n",
    "        self.is_reserved = print(f\"ticket {self.ticket_id} reserved\")\n",
    "    def cancel_ticket(self):\n",
    "        self.is_reserved = print(f\"ticket {self.ticket_id} canceled\")\n",
    "    def display_ticket_info(self):\n",
    "        print(f\"ticket {self.ticket_id} is for {self.event_name} on {self.event_date} at {self.venue} status is {self.is_reserved}\")\n",
    "              \n",
    "        \n",
    "    "
   ]
  },
  {
   "cell_type": "code",
   "execution_count": 8,
   "id": "836eacad-f47c-4e83-9962-bad5fe1c5a7e",
   "metadata": {},
   "outputs": [],
   "source": [
    "#Question number 9 assignment OOPS\n",
    "class e_cart:\n",
    "    def __init__(self,item):\n",
    "        self.item = item\n",
    "        self.items = []\n",
    "    def add_item(self,item):\n",
    "        self.items.append(item)\n",
    "    def remove_item(self,item):\n",
    "        self.items.remove(item)\n",
    "    def view_cart(self):\n",
    "        for item in self.items:\n",
    "            print(item)            \n",
    "    "
   ]
  },
  {
   "cell_type": "code",
   "execution_count": null,
   "id": "df45c22f-8124-49de-8639-ef839b7dc905",
   "metadata": {},
   "outputs": [],
   "source": [
    "#Question number 10 assignment OOPS\n",
    "class student:\n",
    "    def __init__(self,name,age,grade,student_id,attendance):\n",
    "        self.name = name\n",
    "        self.age = age\n",
    "        self.grade = grade\n",
    "        self.student_id = student_id\n",
    "        self.attendance = attendance\n",
    "    def update_attendance(self,date,status):\n",
    "        self.attendence = print(f\"attendence for {self.name} on {self.date} is {self.status}\")\n",
    "    def get_attendence(self):\n",
    "        print(f\"attendence is {self.attendance})\n",
    "    def avg_attendance(self):\n",
    "        count_present = self.attendance.mean(\"present\")\n",
    "        count_absent = self.attendance.mean(\"absent\")\n",
    "              \n",
    "              "
   ]
  }
 ],
 "metadata": {
  "kernelspec": {
   "display_name": "Python 3 (ipykernel)",
   "language": "python",
   "name": "python3"
  },
  "language_info": {
   "codemirror_mode": {
    "name": "ipython",
    "version": 3
   },
   "file_extension": ".py",
   "mimetype": "text/x-python",
   "name": "python",
   "nbconvert_exporter": "python",
   "pygments_lexer": "ipython3",
   "version": "3.10.6"
  }
 },
 "nbformat": 4,
 "nbformat_minor": 5
}
